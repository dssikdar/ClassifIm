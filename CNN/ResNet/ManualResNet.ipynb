{
  "cells": [
    {
      "cell_type": "code",
      "execution_count": 2,
      "metadata": {
        "id": "191eB_Ko-5wi"
      },
      "outputs": [],
      "source": [
        "import matplotlib.pyplot as plt\n",
        "import numpy as np"
      ]
    },
    {
      "cell_type": "code",
      "execution_count": 3,
      "metadata": {
        "colab": {
          "base_uri": "https://localhost:8080/"
        },
        "id": "uSCrrHna6V8A",
        "outputId": "8aa10763-d320-4725-c3c9-c084fe3e49a9"
      },
      "outputs": [],
      "source": [
        "import tensorflow as tf\n",
        "from tensorflow.keras import datasets, layers, models\n",
        "\n",
        "# Load CIFAR-10 dataset\n",
        "(train_images, train_labels), (test_images, test_labels) = datasets.cifar10.load_data()\n",
        "\n",
        "# Normalize pixel values to be between 0 and 1\n",
        "train_images, test_images = train_images / 255.0, test_images / 255.0"
      ]
    },
    {
      "cell_type": "code",
      "execution_count": 3,
      "metadata": {
        "colab": {
          "base_uri": "https://localhost:8080/"
        },
        "id": "87FeDSu76Xr3",
        "outputId": "873bc691-c2fc-42fe-bed5-a089f4c775a8"
      },
      "outputs": [
        {
          "name": "stdout",
          "output_type": "stream",
          "text": [
            "(50000, 32, 32, 3)\n",
            "(50000, 1)\n",
            "(10000, 32, 32, 3)\n",
            "(10000, 1)\n"
          ]
        }
      ],
      "source": [
        "print(train_images.shape)\n",
        "print(train_labels.shape)\n",
        "print(test_images.shape)\n",
        "print(test_labels.shape)"
      ]
    },
    {
      "cell_type": "code",
      "execution_count": 4,
      "metadata": {
        "id": "qWOU7Xrk6R8u"
      },
      "outputs": [],
      "source": [
        "# Define ResNet model\n",
        "def build_resnet(input_shape, num_classes):\n",
        "    inputs = tf.keras.Input(shape=input_shape)\n",
        "    x = layers.Conv2D(64, (3, 3), padding='same', activation='relu')(inputs)\n",
        "    x = layers.MaxPooling2D(pool_size=(2, 2))(x)\n",
        "\n",
        "    # Residual blocks\n",
        "    num_res_blocks = 3\n",
        "    for _ in range(num_res_blocks):\n",
        "        residual = x\n",
        "\n",
        "        x = layers.Conv2D(64, (3, 3), padding='same', activation='relu')(x)\n",
        "        x = layers.Conv2D(64, (3, 3), padding='same')(x)\n",
        "        x = layers.BatchNormalization()(x)\n",
        "        x = layers.add([x, residual])\n",
        "        x = layers.Activation('relu')(x)\n",
        "\n",
        "    x = layers.GlobalAveragePooling2D()(x)\n",
        "    x = layers.Dense(num_classes, activation='softmax')(x)\n",
        "\n",
        "    model = tf.keras.Model(inputs=inputs, outputs=x)\n",
        "    return model"
      ]
    },
    {
      "cell_type": "code",
      "execution_count": 5,
      "metadata": {
        "id": "lRGbMQ8263Te"
      },
      "outputs": [],
      "source": [
        "# Build ResNet model\n",
        "input_shape = train_images.shape[1:]\n",
        "num_classes = 10\n",
        "resnet_model = build_resnet(input_shape, num_classes)"
      ]
    },
    {
      "cell_type": "code",
      "execution_count": 6,
      "metadata": {
        "id": "j1FhUljN64m4"
      },
      "outputs": [],
      "source": [
        "# Compile the model\n",
        "resnet_model.compile(optimizer='adam',\n",
        "              loss='sparse_categorical_crossentropy',\n",
        "              metrics=['accuracy'])"
      ]
    },
    {
      "cell_type": "code",
      "execution_count": 7,
      "metadata": {
        "colab": {
          "base_uri": "https://localhost:8080/"
        },
        "id": "eEyLu9yP65sy",
        "outputId": "506f187e-13c8-4123-f21c-a5387e673c1c"
      },
      "outputs": [
        {
          "name": "stdout",
          "output_type": "stream",
          "text": [
            "Epoch 1/10\n",
            "1563/1563 [==============================] - 496s 316ms/step - loss: 1.3693 - accuracy: 0.5034 - val_loss: 1.8259 - val_accuracy: 0.3933\n",
            "Epoch 2/10\n",
            "1563/1563 [==============================] - 515s 329ms/step - loss: 1.0023 - accuracy: 0.6465 - val_loss: 1.4614 - val_accuracy: 0.5263\n",
            "Epoch 3/10\n",
            "1563/1563 [==============================] - 513s 328ms/step - loss: 0.8599 - accuracy: 0.6986 - val_loss: 1.1115 - val_accuracy: 0.6110\n",
            "Epoch 4/10\n",
            "1563/1563 [==============================] - 514s 329ms/step - loss: 0.7529 - accuracy: 0.7389 - val_loss: 0.9889 - val_accuracy: 0.6675\n",
            "Epoch 5/10\n",
            "1563/1563 [==============================] - 511s 327ms/step - loss: 0.6791 - accuracy: 0.7642 - val_loss: 0.9265 - val_accuracy: 0.6781\n",
            "Epoch 6/10\n",
            "1563/1563 [==============================] - 513s 329ms/step - loss: 0.6221 - accuracy: 0.7848 - val_loss: 0.9541 - val_accuracy: 0.6825\n",
            "Epoch 7/10\n",
            "1563/1563 [==============================] - 515s 329ms/step - loss: 0.5675 - accuracy: 0.8042 - val_loss: 0.9825 - val_accuracy: 0.6969\n",
            "Epoch 8/10\n",
            "1563/1563 [==============================] - 508s 325ms/step - loss: 0.5259 - accuracy: 0.8169 - val_loss: 0.7504 - val_accuracy: 0.7334\n",
            "Epoch 9/10\n",
            "1563/1563 [==============================] - 511s 327ms/step - loss: 0.4849 - accuracy: 0.8342 - val_loss: 0.7105 - val_accuracy: 0.7581\n",
            "Epoch 10/10\n",
            "1563/1563 [==============================] - 511s 327ms/step - loss: 0.4562 - accuracy: 0.8427 - val_loss: 0.8112 - val_accuracy: 0.7332\n"
          ]
        },
        {
          "data": {
            "text/plain": [
              "<keras.src.callbacks.History at 0x7bb70db772b0>"
            ]
          },
          "execution_count": 7,
          "metadata": {},
          "output_type": "execute_result"
        }
      ],
      "source": [
        "# Train the model\n",
        "resnet_model.fit(train_images, train_labels, epochs=10, validation_data=(test_images, test_labels))"
      ]
    },
    {
      "cell_type": "code",
      "execution_count": 8,
      "metadata": {
        "colab": {
          "base_uri": "https://localhost:8080/"
        },
        "id": "HGbr9mjF66sm",
        "outputId": "8aa2d106-e578-4168-8692-f17b4d70d664"
      },
      "outputs": [
        {
          "name": "stdout",
          "output_type": "stream",
          "text": [
            "313/313 [==============================] - 26s 84ms/step - loss: 0.8112 - accuracy: 0.7332\n",
            "Test accuracy: 0.7332000136375427\n"
          ]
        }
      ],
      "source": [
        "# Evaluate the model\n",
        "test_loss, test_acc = resnet_model.evaluate(test_images, test_labels)\n",
        "print(\"Test accuracy:\", test_acc)"
      ]
    },
    {
      "cell_type": "code",
      "execution_count": 16,
      "metadata": {
        "colab": {
          "base_uri": "https://localhost:8080/"
        },
        "id": "Njot8G6fmCSZ",
        "outputId": "db161541-7e98-49d6-94c4-f9d083ae4b39"
      },
      "outputs": [
        {
          "name": "stdout",
          "output_type": "stream",
          "text": [
            "Model: \"model\"\n",
            "__________________________________________________________________________________________________\n",
            " Layer (type)                Output Shape                 Param #   Connected to                  \n",
            "==================================================================================================\n",
            " input_1 (InputLayer)        [(None, 32, 32, 3)]          0         []                            \n",
            "                                                                                                  \n",
            " conv2d (Conv2D)             (None, 32, 32, 64)           1792      ['input_1[0][0]']             \n",
            "                                                                                                  \n",
            " max_pooling2d (MaxPooling2  (None, 16, 16, 64)           0         ['conv2d[0][0]']              \n",
            " D)                                                                                               \n",
            "                                                                                                  \n",
            " conv2d_1 (Conv2D)           (None, 16, 16, 64)           36928     ['max_pooling2d[0][0]']       \n",
            "                                                                                                  \n",
            " conv2d_2 (Conv2D)           (None, 16, 16, 64)           36928     ['conv2d_1[0][0]']            \n",
            "                                                                                                  \n",
            " batch_normalization (Batch  (None, 16, 16, 64)           256       ['conv2d_2[0][0]']            \n",
            " Normalization)                                                                                   \n",
            "                                                                                                  \n",
            " add (Add)                   (None, 16, 16, 64)           0         ['batch_normalization[0][0]', \n",
            "                                                                     'max_pooling2d[0][0]']       \n",
            "                                                                                                  \n",
            " activation (Activation)     (None, 16, 16, 64)           0         ['add[0][0]']                 \n",
            "                                                                                                  \n",
            " conv2d_3 (Conv2D)           (None, 16, 16, 64)           36928     ['activation[0][0]']          \n",
            "                                                                                                  \n",
            " conv2d_4 (Conv2D)           (None, 16, 16, 64)           36928     ['conv2d_3[0][0]']            \n",
            "                                                                                                  \n",
            " batch_normalization_1 (Bat  (None, 16, 16, 64)           256       ['conv2d_4[0][0]']            \n",
            " chNormalization)                                                                                 \n",
            "                                                                                                  \n",
            " add_1 (Add)                 (None, 16, 16, 64)           0         ['batch_normalization_1[0][0]'\n",
            "                                                                    , 'activation[0][0]']         \n",
            "                                                                                                  \n",
            " activation_1 (Activation)   (None, 16, 16, 64)           0         ['add_1[0][0]']               \n",
            "                                                                                                  \n",
            " conv2d_5 (Conv2D)           (None, 16, 16, 64)           36928     ['activation_1[0][0]']        \n",
            "                                                                                                  \n",
            " conv2d_6 (Conv2D)           (None, 16, 16, 64)           36928     ['conv2d_5[0][0]']            \n",
            "                                                                                                  \n",
            " batch_normalization_2 (Bat  (None, 16, 16, 64)           256       ['conv2d_6[0][0]']            \n",
            " chNormalization)                                                                                 \n",
            "                                                                                                  \n",
            " add_2 (Add)                 (None, 16, 16, 64)           0         ['batch_normalization_2[0][0]'\n",
            "                                                                    , 'activation_1[0][0]']       \n",
            "                                                                                                  \n",
            " activation_2 (Activation)   (None, 16, 16, 64)           0         ['add_2[0][0]']               \n",
            "                                                                                                  \n",
            " global_average_pooling2d (  (None, 64)                   0         ['activation_2[0][0]']        \n",
            " GlobalAveragePooling2D)                                                                          \n",
            "                                                                                                  \n",
            " dense (Dense)               (None, 10)                   650       ['global_average_pooling2d[0][\n",
            "                                                                    0]']                          \n",
            "                                                                                                  \n",
            "==================================================================================================\n",
            "Total params: 224778 (878.04 KB)\n",
            "Trainable params: 224394 (876.54 KB)\n",
            "Non-trainable params: 384 (1.50 KB)\n",
            "__________________________________________________________________________________________________\n"
          ]
        }
      ],
      "source": [
        "resnet_model.summary()"
      ]
    },
    {
      "cell_type": "code",
      "execution_count": null,
      "metadata": {
        "id": "YWkl_a6VmHJL"
      },
      "outputs": [],
      "source": []
    }
  ],
  "metadata": {
    "colab": {
      "provenance": []
    },
    "kernelspec": {
      "display_name": "Python 3",
      "name": "python3"
    },
    "language_info": {
      "codemirror_mode": {
        "name": "ipython",
        "version": 3
      },
      "file_extension": ".py",
      "mimetype": "text/x-python",
      "name": "python",
      "nbconvert_exporter": "python",
      "pygments_lexer": "ipython3",
      "version": "3.11.9"
    }
  },
  "nbformat": 4,
  "nbformat_minor": 0
}
